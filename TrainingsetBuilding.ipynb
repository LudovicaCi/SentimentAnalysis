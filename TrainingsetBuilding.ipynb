{
  "nbformat": 4,
  "nbformat_minor": 0,
  "metadata": {
    "colab": {
      "provenance": [],
      "mount_file_id": "1BzpcGrJo5KEi1dp3lhn3r2sU6vT9lZ1C",
      "authorship_tag": "ABX9TyMwRxsYHrzXs5Oa8s/1FJvS",
      "include_colab_link": true
    },
    "kernelspec": {
      "name": "python3",
      "display_name": "Python 3"
    },
    "language_info": {
      "name": "python"
    }
  },
  "cells": [
    {
      "cell_type": "markdown",
      "metadata": {
        "id": "view-in-github",
        "colab_type": "text"
      },
      "source": [
        "<a href=\"https://colab.research.google.com/github/LudovicaCi/SentimentAnalysis/blob/main/TrainingsetBuilding.ipynb\" target=\"_parent\"><img src=\"https://colab.research.google.com/assets/colab-badge.svg\" alt=\"Open In Colab\"/></a>"
      ]
    },
    {
      "cell_type": "code",
      "execution_count": 1,
      "metadata": {
        "id": "ILnna4AczTPV"
      },
      "outputs": [],
      "source": [
        "import pandas as pd\n",
        "\n",
        "\n",
        "reviews = pd.read_csv('/content/drive/MyDrive/DataMining/Dataset/reviews_podcast_2020.csv')"
      ]
    },
    {
      "cell_type": "code",
      "source": [
        "print(reviews.columns)"
      ],
      "metadata": {
        "id": "utHIrD7Yz5db",
        "colab": {
          "base_uri": "https://localhost:8080/"
        },
        "outputId": "4b2a0af9-c9ea-4667-dd19-454ceaa75adc"
      },
      "execution_count": 2,
      "outputs": [
        {
          "output_type": "stream",
          "name": "stdout",
          "text": [
            "Index(['content', 'rating'], dtype='object')\n"
          ]
        }
      ]
    },
    {
      "cell_type": "code",
      "source": [
        "df = reviews"
      ],
      "metadata": {
        "id": "9CXaMCpI2SwH"
      },
      "execution_count": 3,
      "outputs": []
    },
    {
      "cell_type": "code",
      "source": [
        "# Mappa i rating alle classi\n",
        "mappatura_classi = {\n",
        "    4: 'positive',\n",
        "    5: 'positive',\n",
        "    3: 'neutral',\n",
        "    2: 'negative',\n",
        "    1: 'negative'\n",
        "}\n",
        "\n",
        "# Sostituisci i valori nella colonna 'rating' con le corrispondenti classi\n",
        "df['rating'] = df['rating'].replace(mappatura_classi)\n",
        "\n",
        "# Visualizza il DataFrame con i rating sostituiti dalle classi\n",
        "print(df.head())"
      ],
      "metadata": {
        "colab": {
          "base_uri": "https://localhost:8080/"
        },
        "id": "7O2tHWop2AMm",
        "outputId": "b9d239b8-c7f1-4630-8c13-4a8da51cbc18"
      },
      "execution_count": 4,
      "outputs": [
        {
          "output_type": "stream",
          "name": "stdout",
          "text": [
            "                         content    rating\n",
            "0                     Take me on  positive\n",
            "1         Show off the quads Pft  positive\n",
            "2              Best fill in EVER  positive\n",
            "3           I needed this today.  positive\n",
            "4  I need so much more of this 😴  positive\n"
          ]
        }
      ]
    },
    {
      "cell_type": "code",
      "source": [
        "# Crea tre DataFrame distinti per ciascuna classe di rating\n",
        "df_positive = df[df['rating'] == 'positive'].copy()\n",
        "df_neutral = df[df['rating'] == 'neutral'].copy()\n",
        "df_negative = df[df['rating'] == 'negative'].copy()\n",
        "\n",
        "# Visualizza i primi cinque elementi di ciascun DataFrame\n",
        "print(\"DataFrame Positive:\")\n",
        "print(df_positive.head())\n",
        "print(df_positive.shape[0])\n",
        "\n",
        "print(\"\\nDataFrame Neutral:\")\n",
        "print(df_neutral.head())\n",
        "print(df_neutral.shape[0])\n",
        "\n",
        "print(\"\\nDataFrame Negative:\")\n",
        "print(df_negative.head())\n",
        "print(df_negative.shape[0])"
      ],
      "metadata": {
        "colab": {
          "base_uri": "https://localhost:8080/"
        },
        "id": "wy3OJba92tnt",
        "outputId": "01fce014-14e5-4bc3-c233-fd66a73b24be"
      },
      "execution_count": 5,
      "outputs": [
        {
          "output_type": "stream",
          "name": "stdout",
          "text": [
            "DataFrame Positive:\n",
            "                         content    rating\n",
            "0                     Take me on  positive\n",
            "1         Show off the quads Pft  positive\n",
            "2              Best fill in EVER  positive\n",
            "3           I needed this today.  positive\n",
            "4  I need so much more of this 😴  positive\n",
            "1007776\n",
            "\n",
            "DataFrame Neutral:\n",
            "                                               content   rating\n",
            "87   I am only on episode 24. Until now, I binged a...  neutral\n",
            "117  If it wasn’t for Brit. I would give you a 5sta...  neutral\n",
            "132  Great story telling by Dr Phill but the music ...  neutral\n",
            "155  Kara is a self centered narcissistic who think...  neutral\n",
            "166  Do several podcasts in a couple days to stock ...  neutral\n",
            "26412\n",
            "\n",
            "DataFrame Negative:\n",
            "                                              content    rating\n",
            "11                As you can tell, I did not like it.  negative\n",
            "15  Look elsewhere for thoughtful and unbiased NFL...  negative\n",
            "18   Without Chris Carter the show isn’t good anymore  negative\n",
            "27  I’ve tried a few different times but can’t get...  negative\n",
            "29  2 hours 37 minutes ... 20 minutes of which was...  negative\n",
            "93468\n"
          ]
        }
      ]
    },
    {
      "cell_type": "code",
      "source": [
        "# Determina il numero minimo di recensioni per classe\n",
        "numero_di_recensioni_per_classe = min(len(df_positive), len(df_neutral), len(df_negative))\n",
        "\n",
        "# Campiona lo stesso numero di recensioni da ciascun DataFrame\n",
        "df_bilanciato = pd.concat([\n",
        "    df_positive.sample(numero_di_recensioni_per_classe, random_state=42),\n",
        "    df_neutral.sample(numero_di_recensioni_per_classe, random_state=42),\n",
        "    df_negative.sample(numero_di_recensioni_per_classe, random_state=42)\n",
        "])\n",
        "\n",
        "# Visualizza il DataFrame bilanciato\n",
        "print(df_bilanciato.head())"
      ],
      "metadata": {
        "colab": {
          "base_uri": "https://localhost:8080/"
        },
        "id": "aWYTCFlR0ygS",
        "outputId": "94e5006f-34b8-40b6-d923-2241e1fbe8bc"
      },
      "execution_count": 6,
      "outputs": [
        {
          "output_type": "stream",
          "name": "stdout",
          "text": [
            "                                                   content    rating\n",
            "1098009  It was great to hear the background & history ...  positive\n",
            "262259               Thanks for making me laugh every day!  positive\n",
            "1097272  My wife and I are KC Symphony Masterworks subs...  positive\n",
            "919722   I really enjoy the dynamic between Jared and G...  positive\n",
            "1014179  so glad I came across this podcast. These 2 br...  positive\n"
          ]
        }
      ]
    },
    {
      "cell_type": "code",
      "source": [
        "import matplotlib.pyplot as plt\n",
        "\n",
        "ratings_distribution = df_bilanciato['rating'].value_counts()\n",
        "\n",
        "# Visualizza la distribuzione del training set\n",
        "plt.bar(ratings_distribution.index, ratings_distribution.values, color=['green', 'gray', 'red'])\n",
        "plt.title('Distribuzione del Training Set per Rating')\n",
        "plt.xlabel('Rating')\n",
        "plt.ylabel('Numero di Recensioni')\n",
        "plt.show()"
      ],
      "metadata": {
        "colab": {
          "base_uri": "https://localhost:8080/",
          "height": 472
        },
        "id": "9MgHJx4T4dC6",
        "outputId": "9547e4e9-9e6d-452e-ca06-56d7b28ce29a"
      },
      "execution_count": 10,
      "outputs": [
        {
          "output_type": "display_data",
          "data": {
            "text/plain": [
              "<Figure size 640x480 with 1 Axes>"
            ],
            "image/png": "[encoded data removed]"
          },
          "metadata": {}
        }
      ]
    },
    {
      "cell_type": "code",
      "source": [
        "df_bilanciato.to_csv('/content/drive/MyDrive/DataMining/Dataset/trainingSet.csv', index=False)"
      ],
      "metadata": {
        "id": "lyC4cwFm6QQX"
      },
      "execution_count": 11,
      "outputs": []
    }
  ]
}